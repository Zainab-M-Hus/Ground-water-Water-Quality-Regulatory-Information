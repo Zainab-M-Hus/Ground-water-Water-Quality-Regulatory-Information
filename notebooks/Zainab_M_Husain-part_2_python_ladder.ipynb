{
 "cells": [
  {
   "cell_type": "markdown",
   "metadata": {
    "id": "dlEfOPNJar_j"
   },
   "source": [
    "<img src=\"http://imgur.com/1ZcRyrc.png\" style=\"float: left; margin: 20px; height: 55px\" />\n",
    "\n",
    "# Python Ladder Challenges - Notebook 1\n",
    "\n",
    "_Author:_ Tim Book"
   ]
  },
  {
   "cell_type": "markdown",
   "metadata": {
    "id": "0qe3a1eear_l"
   },
   "source": [
    "# Climb the Ladder!\n",
    "Our class moves quickly! Sometimes, it feels like we make leaps in logic that are a bit too big. Learn Python _slowly_, by doing many, many examples. Problems in this notebook start out easy and progressively get harder, so that the next rung of the Python ladder is always within reach."
   ]
  },
  {
   "cell_type": "markdown",
   "metadata": {
    "id": "rdz8COKxar_l"
   },
   "source": [
    "# Section I: Numbers, variables, and math."
   ]
  },
  {
   "cell_type": "markdown",
   "metadata": {
    "id": "KDNd3u0tar_l"
   },
   "source": [
    "1) What is 123456789 times 987654321?"
   ]
  },
  {
   "cell_type": "code",
   "execution_count": 2,
   "metadata": {
    "id": "mAQqo2-kar_l"
   },
   "outputs": [
    {
     "name": "stdout",
     "output_type": "stream",
     "text": [
      "121932631112635269\n"
     ]
    }
   ],
   "source": [
    "num1 = 123456789\n",
    "num2= 987654321\n",
    "\n",
    "ans = (num1*num2)\n",
    "print (ans)"
   ]
  },
  {
   "cell_type": "markdown",
   "metadata": {
    "id": "iSOPt7xLar_m"
   },
   "source": [
    "2) Create a variable called `mass` that is equal to 100."
   ]
  },
  {
   "cell_type": "code",
   "execution_count": 7,
   "metadata": {
    "id": "9lnfmQGHar_m"
   },
   "outputs": [
    {
     "data": {
      "text/plain": [
       "100"
      ]
     },
     "execution_count": 7,
     "metadata": {},
     "output_type": "execute_result"
    }
   ],
   "source": [
    "mass = 100\n",
    "mass"
   ]
  },
  {
   "cell_type": "markdown",
   "metadata": {
    "id": "7aK6mZmNar_m"
   },
   "source": [
    "3) Create a variable called `velocity` that is equal to 5."
   ]
  },
  {
   "cell_type": "code",
   "execution_count": 8,
   "metadata": {
    "id": "UbyGwtD9ar_m"
   },
   "outputs": [
    {
     "data": {
      "text/plain": [
       "5"
      ]
     },
     "execution_count": 8,
     "metadata": {},
     "output_type": "execute_result"
    }
   ],
   "source": [
    "velocity = 5\n",
    "velocity"
   ]
  },
  {
   "cell_type": "markdown",
   "metadata": {
    "id": "GTIguwoNar_n"
   },
   "source": [
    "4) In physics, the momentum an object is exerting is equal to its mass times its velocity. That is, $p = mv$. Use the variables you defined above to compute this object's momentum."
   ]
  },
  {
   "cell_type": "code",
   "execution_count": 10,
   "metadata": {
    "id": "S43bnk38ar_n"
   },
   "outputs": [
    {
     "data": {
      "text/plain": [
       "500"
      ]
     },
     "execution_count": 10,
     "metadata": {},
     "output_type": "execute_result"
    }
   ],
   "source": [
    "momentum = mass*velocity\n",
    "momentum"
   ]
  },
  {
   "cell_type": "markdown",
   "metadata": {
    "id": "pA23-BGvar_n"
   },
   "source": [
    "5) The kinetic energy of an object is half its mass times the square of its velocity. That is, $K = \\frac{1}{2}mv^2$. Compute the kinetic energy for this object using the variables you've already created."
   ]
  },
  {
   "cell_type": "code",
   "execution_count": 21,
   "metadata": {
    "id": "JKcSAM5gar_n"
   },
   "outputs": [
    {
     "name": "stdout",
     "output_type": "stream",
     "text": [
      "1250.0\n"
     ]
    }
   ],
   "source": [
    "kin = .5*mass*velocity**2\n",
    "print (kin)"
   ]
  },
  {
   "cell_type": "markdown",
   "metadata": {
    "id": "izdJ99KGar_o"
   },
   "source": [
    "### How much icing do you need?\n",
    "In the next few exercises, our goal will be to figure out how much icing we will need to perfectly cover a giant doughnut. The doughnut features a hole (unfortunately no jelly filling), and a few large sprinkles. We only need to find the area of the red region in this shape.\n",
    "\n",
    "![](imgs/donut.png)"
   ]
  },
  {
   "cell_type": "markdown",
   "metadata": {
    "id": "KPFNRGvdar_o"
   },
   "source": [
    "6) Create a variable called `pi` that is equal to 3.141"
   ]
  },
  {
   "cell_type": "code",
   "execution_count": 22,
   "metadata": {
    "id": "nHmcfnVnar_o"
   },
   "outputs": [
    {
     "data": {
      "text/plain": [
       "3.141"
      ]
     },
     "execution_count": 22,
     "metadata": {},
     "output_type": "execute_result"
    }
   ],
   "source": [
    "pi=3.141\n",
    "pi"
   ]
  },
  {
   "cell_type": "markdown",
   "metadata": {
    "id": "fY35wx8Var_o"
   },
   "source": [
    "7) The radius of the largest circle is 13.425. The radius of the smaller circle is 4.792. The sprinkles are isosceles right triangles with side length 3.28. Create the variables `R`, `r`, and `s` that represent these values."
   ]
  },
  {
   "cell_type": "code",
   "execution_count": 96,
   "metadata": {
    "id": "RMmssm5uar_p"
   },
   "outputs": [
    {
     "name": "stdout",
     "output_type": "stream",
     "text": [
      "Large circle: 13.425 ,Small circle: 4.792 ,Sprinkles: 3.28\n"
     ]
    }
   ],
   "source": [
    "R= 13.425\n",
    "r= 4.792\n",
    "s= 3.28\n",
    "print (\"Large circle:\", R,\",Small circle:\",r,\",Sprinkles:\",s)"
   ]
  },
  {
   "cell_type": "markdown",
   "metadata": {
    "id": "bdFYFQCmar_p"
   },
   "source": [
    "8) Find the area of the larger circle (the whole doughnut, including the hole). Call this variable `area_big_circle`.\n",
    "\n",
    "* _Hint:_ The area of a circle with radius $r$ is $A = \\pi r^2$."
   ]
  },
  {
   "cell_type": "code",
   "execution_count": 97,
   "metadata": {
    "id": "KFVhJSRmar_p"
   },
   "outputs": [
    {
     "name": "stdout",
     "output_type": "stream",
     "text": [
      " Big Circle: 72.14122148484296\n"
     ]
    }
   ],
   "source": [
    "import math\n",
    "area_big_circle = math.pi*math.pow(r, 2)\n",
    "print (\" Big Circle:\", area_big_circle)"
   ]
  },
  {
   "cell_type": "markdown",
   "metadata": {
    "id": "l-6T6Eykar_p"
   },
   "source": [
    "9) Find the area of the smaller circle (the hole). Call this variable `area_small_circle`."
   ]
  },
  {
   "cell_type": "code",
   "execution_count": 98,
   "metadata": {
    "id": "eQGrBUxxar_p"
   },
   "outputs": [
    {
     "name": "stdout",
     "output_type": "stream",
     "text": [
      " Small Circle: 566.211207451897\n"
     ]
    }
   ],
   "source": [
    "area_small_circle = math.pi*math.pow(R,2)\n",
    "print (\" Small Circle:\", area_small_circle)"
   ]
  },
  {
   "cell_type": "markdown",
   "metadata": {
    "id": "TgjzVpavar_p"
   },
   "source": [
    "10) Find the area of one triangle (a sprinkle), where each sprinkle has a base and height of length `s`. Call this variable `area_sprinkle`.\n",
    "\n",
    "* _Hint:_ The area of a triangle with base $b$ and height $h$ is $A = \\frac{1}{2}bh$."
   ]
  },
  {
   "cell_type": "code",
   "execution_count": 99,
   "metadata": {
    "id": "YiuB3S0Jar_p"
   },
   "outputs": [
    {
     "name": "stdout",
     "output_type": "stream",
     "text": [
      "Sprinkle: 5.379199999999999\n"
     ]
    }
   ],
   "source": [
    "area_sprinkle = 0.5 * s * s\n",
    "print(\"Sprinkle:\", area_sprinkle)"
   ]
  },
  {
   "cell_type": "markdown",
   "metadata": {
    "id": "_Rgqp64mar_q"
   },
   "source": [
    "11) Using the three values you calculated above, find the area of the shaded region givven that we have 10 sprinkles (i.e., how much icing will you need?). Save the result in a variable called `area_donut`."
   ]
  },
  {
   "cell_type": "code",
   "execution_count": 100,
   "metadata": {
    "id": "xDSrI7j9ar_q"
   },
   "outputs": [
    {
     "name": "stdout",
     "output_type": "stream",
     "text": [
      "Area of the shaded region of the donut with 10 sprinkles: 440.2779859670541\n"
     ]
    }
   ],
   "source": [
    "area_donut = area_small_circle - area_big_circle - (10 * area_sprinkle)\n",
    "print(\"Area of the shaded region of the donut with 10 sprinkles:\", area_donut)"
   ]
  },
  {
   "cell_type": "markdown",
   "metadata": {
    "id": "yXUVo_Hear_q"
   },
   "source": [
    "# Section II: Strings"
   ]
  },
  {
   "cell_type": "markdown",
   "metadata": {
    "id": "gsKm-GEyvMc_"
   },
   "source": [
    "Please consult STRING methods and functions in the [Python Official Documentation](https://docs.python.org/3.12/search.html), the book [Python for Everybody](https://eng.libretexts.org/Bookshelves/Computer_Science/Programming_Languages/Python_for_Everybody_(Severance)/06%3A_Strings/6.0G%3A_6.G%3A_Strings_(Glossary)) or other sources (not an AI assistant!) if there are things you are not familiar with yet or if you encounter syntax issues."
   ]
  },
  {
   "cell_type": "markdown",
   "metadata": {
    "id": "rLjgSS7War_q"
   },
   "source": [
    "12) Create a variable called `name` and assign it your own name as a value."
   ]
  },
  {
   "cell_type": "code",
   "execution_count": 46,
   "metadata": {
    "id": "GFjhykNaar_q"
   },
   "outputs": [
    {
     "name": "stdout",
     "output_type": "stream",
     "text": [
      "zainab\n"
     ]
    }
   ],
   "source": [
    "name= (\"zainab\")\n",
    "print (name)"
   ]
  },
  {
   "cell_type": "markdown",
   "metadata": {
    "id": "I5Dr4Hpoar_q"
   },
   "source": [
    "13) By adding strings together, introduce yourself in a string. For example `\"Hello, my name is Tim!\"`. You may use f-strings if you know what they are and prefer to use them."
   ]
  },
  {
   "cell_type": "code",
   "execution_count": 59,
   "metadata": {
    "id": "tpg7eCsgar_q"
   },
   "outputs": [
    {
     "data": {
      "text/plain": [
       "'Hello, my name is zainab!'"
      ]
     },
     "execution_count": 59,
     "metadata": {},
     "output_type": "execute_result"
    }
   ],
   "source": [
    "name= (\"zainab\")\n",
    "f\"Hello, my name is {name}!\""
   ]
  },
  {
   "cell_type": "markdown",
   "metadata": {
    "id": "K8njlbKzar_q"
   },
   "source": [
    "14) Define the variable `fact` with the following string as its value `\"Python programming is fun.\"`"
   ]
  },
  {
   "cell_type": "code",
   "execution_count": 156,
   "metadata": {
    "id": "W6WL6sTqar_q"
   },
   "outputs": [
    {
     "name": "stdout",
     "output_type": "stream",
     "text": [
      "Python programming is fun.\n"
     ]
    }
   ],
   "source": [
    "fact = \"Python programming is fun.\"\n",
    "print(fact)"
   ]
  },
  {
   "cell_type": "markdown",
   "metadata": {
    "id": "_95e6iLBar_r"
   },
   "source": [
    "15) Index the variable `fact` in order to get the \"o\" in \"Python\"."
   ]
  },
  {
   "cell_type": "code",
   "execution_count": 158,
   "metadata": {
    "id": "C6ShxyfGar_r"
   },
   "outputs": [
    {
     "data": {
      "text/plain": [
       "'o'"
      ]
     },
     "execution_count": 158,
     "metadata": {},
     "output_type": "execute_result"
    }
   ],
   "source": [
    "fact[4]\n"
   ]
  },
  {
   "cell_type": "markdown",
   "metadata": {
    "id": "S3JThhPUar_r"
   },
   "source": [
    "16) Index `fact` in order to get the \"u\" in \"fun\" using a negative index."
   ]
  },
  {
   "cell_type": "code",
   "execution_count": 155,
   "metadata": {
    "id": "wYJsrXNlar_r"
   },
   "outputs": [
    {
     "data": {
      "text/plain": [
       "'u'"
      ]
     },
     "execution_count": 155,
     "metadata": {},
     "output_type": "execute_result"
    }
   ],
   "source": [
    "fact [-3]"
   ]
  },
  {
   "cell_type": "markdown",
   "metadata": {
    "id": "eMbgtEJEar_r"
   },
   "source": [
    "17) Slice `fact` in order to get the word \"programming\"."
   ]
  },
  {
   "cell_type": "code",
   "execution_count": 160,
   "metadata": {
    "id": "-veq1N-Far_r"
   },
   "outputs": [
    {
     "data": {
      "text/plain": [
       "'programming '"
      ]
     },
     "execution_count": 160,
     "metadata": {},
     "output_type": "execute_result"
    }
   ],
   "source": [
    "fact[7:8+11]\n"
   ]
  },
  {
   "cell_type": "markdown",
   "metadata": {
    "id": "Cj4Jj6U3ar_s"
   },
   "source": [
    "18) Uppercase `fact`."
   ]
  },
  {
   "cell_type": "code",
   "execution_count": 152,
   "metadata": {
    "id": "RkJioV3qar_s"
   },
   "outputs": [
    {
     "data": {
      "text/plain": [
       "'PYTHON PROGRAMMING IS FUN!'"
      ]
     },
     "execution_count": 152,
     "metadata": {},
     "output_type": "execute_result"
    }
   ],
   "source": [
    "fact.upper()\n"
   ]
  },
  {
   "cell_type": "markdown",
   "metadata": {
    "id": "-ujQuebPar_t"
   },
   "source": [
    "19) Replace the period at the end of `fact` with an exclamation point."
   ]
  },
  {
   "cell_type": "code",
   "execution_count": 146,
   "metadata": {
    "id": "tTMddqcqar_t"
   },
   "outputs": [
    {
     "name": "stdout",
     "output_type": "stream",
     "text": [
      "Python programming is fun!\n"
     ]
    }
   ],
   "source": [
    "fact = fact[:-1] + \"!\"\n",
    "print(fact)"
   ]
  },
  {
   "cell_type": "markdown",
   "metadata": {
    "id": "sxLDX__Sar_t"
   },
   "source": [
    "20) Use `.split()` to get the second word of this string. Was this easier than one of the problems above?"
   ]
  },
  {
   "cell_type": "code",
   "execution_count": 165,
   "metadata": {
    "id": "_3lCPiGSar_t"
   },
   "outputs": [
    {
     "name": "stdout",
     "output_type": "stream",
     "text": [
      "programming\n"
     ]
    }
   ],
   "source": [
    "words = fact.split()\n",
    "second_word = words[1]\n",
    "print(second_word)"
   ]
  },
  {
   "cell_type": "markdown",
   "metadata": {
    "id": "vBD8o0Kiar_t"
   },
   "source": [
    "21) Reverse `fact`."
   ]
  },
  {
   "cell_type": "code",
   "execution_count": 166,
   "metadata": {
    "id": "alB9_4OBar_t"
   },
   "outputs": [
    {
     "data": {
      "text/plain": [
       "'.nuf si gnimmargorp nohtyP'"
      ]
     },
     "execution_count": 166,
     "metadata": {},
     "output_type": "execute_result"
    }
   ],
   "source": [
    "fact[::-1]"
   ]
  },
  {
   "cell_type": "markdown",
   "metadata": {
    "id": "LObT_cQ5ar_t"
   },
   "source": [
    "22) Does `fact` contain the letter `y`? To find this answer, use the `in` keyword."
   ]
  },
  {
   "cell_type": "code",
   "execution_count": 169,
   "metadata": {
    "id": "UEgwM9vRar_u"
   },
   "outputs": [
    {
     "data": {
      "text/plain": [
       "True"
      ]
     },
     "execution_count": 169,
     "metadata": {},
     "output_type": "execute_result"
    }
   ],
   "source": [
    "'y' in fact"
   ]
  },
  {
   "cell_type": "markdown",
   "metadata": {
    "id": "rG0RmMHIar_u"
   },
   "source": [
    "23) How many `o`s does `fact` have?"
   ]
  },
  {
   "cell_type": "code",
   "execution_count": 201,
   "metadata": {
    "id": "FtcTyt5Jar_u"
   },
   "outputs": [
    {
     "name": "stdout",
     "output_type": "stream",
     "text": [
      "Fact has 2 o's and 1 s\n"
     ]
    }
   ],
   "source": [
    "fact = \"Python programming is fun.\"\n",
    "count_o = fact.count('o')\n",
    "count_s = fact.count('s')\n",
    "\n",
    "print (\"Fact has\", count_o, \"o's and\", count_s, \"s\")"
   ]
  },
  {
   "cell_type": "markdown",
   "metadata": {
    "id": "RGgs0OfEar_u"
   },
   "source": [
    "24) Replace all the `o`s in `fact` with an underscore (do not redefine `fact`)."
   ]
  },
  {
   "cell_type": "code",
   "execution_count": 205,
   "metadata": {
    "id": "iflrn9GXar_u"
   },
   "outputs": [
    {
     "data": {
      "text/plain": [
       "'Pyth_n pr_gramming i_ fun.'"
      ]
     },
     "execution_count": 205,
     "metadata": {},
     "output_type": "execute_result"
    }
   ],
   "source": [
    "replace = fact.replace('o', '_').replace('s', '_')\n",
    "replace"
   ]
  },
  {
   "cell_type": "markdown",
   "metadata": {
    "id": "scYNtwPSar_u"
   },
   "source": [
    "# Section III: Lists"
   ]
  },
  {
   "cell_type": "markdown",
   "metadata": {
    "id": "rMizjUtMwsfb"
   },
   "source": [
    "Please consult LISTS methods and functions in the [Python Official Documentation](https://docs.python.org/3.12/search.html), the book [Python for Everybody](https://eng.libretexts.org/Bookshelves/Computer_Science/Programming_Languages/Python_for_Everybody_(Severance)/08%3A_Lists) or other sources (not an AI assistant!) if there are things you are not familiar with yet or if you encounter syntax issues."
   ]
  },
  {
   "cell_type": "markdown",
   "metadata": {
    "id": "oTiONjjQar_u"
   },
   "source": [
    "25) Create a list `friends` with the name of your three best friends, `\"Alice\"`, `\"Bob\"`, and `\"Charlie\"`."
   ]
  },
  {
   "cell_type": "code",
   "execution_count": 118,
   "metadata": {
    "id": "e4Is0S-qar_v"
   },
   "outputs": [
    {
     "data": {
      "text/plain": [
       "['Alice', 'Bob', 'Charlie']"
      ]
     },
     "execution_count": 118,
     "metadata": {},
     "output_type": "execute_result"
    }
   ],
   "source": [
    "friends = ['Alice', 'Bob', 'Charlie']\n",
    "friends"
   ]
  },
  {
   "cell_type": "markdown",
   "metadata": {
    "id": "mZQAQZW1ar_v"
   },
   "source": [
    "26) Find the length of `friends`."
   ]
  },
  {
   "cell_type": "code",
   "execution_count": 119,
   "metadata": {
    "id": "nqGiAxLiar_v"
   },
   "outputs": [
    {
     "data": {
      "text/plain": [
       "3"
      ]
     },
     "execution_count": 119,
     "metadata": {},
     "output_type": "execute_result"
    }
   ],
   "source": [
    "len(friends)"
   ]
  },
  {
   "cell_type": "markdown",
   "metadata": {
    "id": "g1pD5Nw9ar_v"
   },
   "source": [
    "27) Add your new friend `\"Debbie\"` to your list of `friends`."
   ]
  },
  {
   "cell_type": "code",
   "execution_count": 120,
   "metadata": {
    "id": "pLCwWEC3ar_v"
   },
   "outputs": [
    {
     "name": "stdout",
     "output_type": "stream",
     "text": [
      "['Alice', 'Bob', 'Charlie', 'Debbie']\n"
     ]
    }
   ],
   "source": [
    "\n",
    "friends.append(\"Debbie\")\n",
    "print(friends)"
   ]
  },
  {
   "cell_type": "markdown",
   "metadata": {
    "id": "__c5XmZHar_v"
   },
   "source": [
    "28) Charlie has no-showed to your piano recital. Remove him from your `friends`."
   ]
  },
  {
   "cell_type": "code",
   "execution_count": 121,
   "metadata": {
    "id": "wvnVr5Wtar_w"
   },
   "outputs": [
    {
     "name": "stdout",
     "output_type": "stream",
     "text": [
      "['Alice', 'Bob', 'Debbie']\n"
     ]
    }
   ],
   "source": [
    "friends.remove(\"Charlie\")\n",
    "print(friends)"
   ]
  },
  {
   "cell_type": "markdown",
   "metadata": {
    "id": "tO52L6B-ar_w"
   },
   "source": [
    "29) Using the `.join()` method, join `friends` to look like this _exactly_: `\"Alice & Bob & Debbie\"`"
   ]
  },
  {
   "cell_type": "code",
   "execution_count": 124,
   "metadata": {
    "id": "ZIzCciUKar_w"
   },
   "outputs": [
    {
     "name": "stdout",
     "output_type": "stream",
     "text": [
      "Alice & Bob & Debbie\n"
     ]
    }
   ],
   "source": [
    "ans = \" & \".join(friends)\n",
    "print(ans)"
   ]
  },
  {
   "cell_type": "markdown",
   "metadata": {
    "id": "Syy3D3Mrar_w"
   },
   "source": [
    "30) What is the length of `[]`? What about `[[]]`? Why?"
   ]
  },
  {
   "cell_type": "code",
   "execution_count": 128,
   "metadata": {
    "id": "3i-yAX49ar_w"
   },
   "outputs": [
    {
     "data": {
      "text/plain": [
       "(0, 1, '[] is empty with no element, [[]] has 1 element inside the list')"
      ]
     },
     "execution_count": 128,
     "metadata": {},
     "output_type": "execute_result"
    }
   ],
   "source": [
    "len([]), len([[]]), \"[] is empty with no element, [[]] has 1 element inside the list\"\n"
   ]
  },
  {
   "cell_type": "markdown",
   "metadata": {
    "id": "Xf0_tLzQar_w"
   },
   "source": [
    "For the next few problems, we'll use the list `nested_deep`. Be sure it is defined before moving on to the next question."
   ]
  },
  {
   "cell_type": "code",
   "execution_count": 215,
   "metadata": {
    "id": "QXg9f9g4ar_w"
   },
   "outputs": [],
   "source": [
    "nested_deep = [1, [2, 3], 4, [5, [6, 7, [8]]]]"
   ]
  },
  {
   "cell_type": "markdown",
   "metadata": {
    "id": "Ghs3iuUsar_w"
   },
   "source": [
    "31) What is the length of `nested_deep`?"
   ]
  },
  {
   "cell_type": "code",
   "execution_count": 216,
   "metadata": {
    "id": "l1xXIIUgar_x"
   },
   "outputs": [
    {
     "data": {
      "text/plain": [
       "4"
      ]
     },
     "execution_count": 216,
     "metadata": {},
     "output_type": "execute_result"
    }
   ],
   "source": [
    "len(nested_deep)"
   ]
  },
  {
   "cell_type": "markdown",
   "metadata": {
    "id": "Xntuh_Hdar_x"
   },
   "source": [
    "32) Index `nested_deep` to get the 5."
   ]
  },
  {
   "cell_type": "code",
   "execution_count": 238,
   "metadata": {
    "id": "9Vk9ZTABar_x"
   },
   "outputs": [
    {
     "name": "stdout",
     "output_type": "stream",
     "text": [
      "5\n"
     ]
    }
   ],
   "source": [
    "index = nested_deep [3][0]\n",
    "print (index)"
   ]
  },
  {
   "cell_type": "markdown",
   "metadata": {
    "id": "4FbOy3bsar_x"
   },
   "source": [
    "33) Index `nested_deep` to get the 8.\n",
    "\n",
    "* _Hint:_ If your answer looks like `[8]`, that's not the correct answer!"
   ]
  },
  {
   "cell_type": "code",
   "execution_count": 277,
   "metadata": {
    "id": "pTaU_pg9ar_x"
   },
   "outputs": [
    {
     "name": "stdout",
     "output_type": "stream",
     "text": [
      "8\n"
     ]
    }
   ],
   "source": [
    "index = nested_deep [3][1][2][-1]\n",
    "print (index)\n"
   ]
  },
  {
   "cell_type": "markdown",
   "metadata": {},
   "source": [
    "### "
   ]
  }
 ],
 "metadata": {
  "colab": {
   "provenance": []
  },
  "kernelspec": {
   "display_name": "Python [conda env:base] *",
   "language": "python",
   "name": "conda-base-py"
  },
  "language_info": {
   "codemirror_mode": {
    "name": "ipython",
    "version": 3
   },
   "file_extension": ".py",
   "mimetype": "text/x-python",
   "name": "python",
   "nbconvert_exporter": "python",
   "pygments_lexer": "ipython3",
   "version": "3.13.5"
  }
 },
 "nbformat": 4,
 "nbformat_minor": 4
}
